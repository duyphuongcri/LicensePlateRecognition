{
 "cells": [
  {
   "cell_type": "code",
   "execution_count": 1,
   "metadata": {},
   "outputs": [],
   "source": [
    "import pandas as pd"
   ]
  },
  {
   "cell_type": "code",
   "execution_count": 61,
   "metadata": {},
   "outputs": [],
   "source": [
    "csv_sumary_path = \"/home/truongdongdo/Desktop/sumary.csv\"\n",
    "data = pd.read_csv(csv_sumary_path)"
   ]
  },
  {
   "cell_type": "code",
   "execution_count": 2,
   "metadata": {},
   "outputs": [],
   "source": [
    "csv_sumary_path = \"./Autofill_Sumary/Information_License_plate.xlsx\"\n",
    "data = pd.read_excel(csv_sumary_path)"
   ]
  },
  {
   "cell_type": "code",
   "execution_count": 9,
   "metadata": {},
   "outputs": [
    {
     "data": {
      "text/html": [
       "<div>\n",
       "<style scoped>\n",
       "    .dataframe tbody tr th:only-of-type {\n",
       "        vertical-align: middle;\n",
       "    }\n",
       "\n",
       "    .dataframe tbody tr th {\n",
       "        vertical-align: top;\n",
       "    }\n",
       "\n",
       "    .dataframe thead th {\n",
       "        text-align: right;\n",
       "    }\n",
       "</style>\n",
       "<table border=\"1\" class=\"dataframe\">\n",
       "  <thead>\n",
       "    <tr style=\"text-align: right;\">\n",
       "      <th></th>\n",
       "      <th>Biển số phần 1</th>\n",
       "      <th>Biển số phần 2</th>\n",
       "      <th>Chủ xe</th>\n",
       "      <th>Địa chỉ</th>\n",
       "      <th>Số CMND/CCCD</th>\n",
       "      <th>Số điện thoại</th>\n",
       "      <th>Ngày cấp</th>\n",
       "      <th>Bến Tre</th>\n",
       "      <th>Loại xe</th>\n",
       "      <th>Nhãn hiệu</th>\n",
       "      <th>...</th>\n",
       "      <th>Ngày đăng ký mới</th>\n",
       "      <th>Đăng ký xe có giá trị</th>\n",
       "      <th>Ngày đăng ký lần đầu</th>\n",
       "      <th>Biển số cũ</th>\n",
       "      <th>Cải tạo</th>\n",
       "      <th>Ngày cải tạo</th>\n",
       "      <th>Thu hồi</th>\n",
       "      <th>Ngày thu hồi</th>\n",
       "      <th>Sang tên di chuyển đi</th>\n",
       "      <th>Ngày sang tên di chuyển</th>\n",
       "    </tr>\n",
       "  </thead>\n",
       "  <tbody>\n",
       "    <tr>\n",
       "      <th>5</th>\n",
       "      <td>71C167672</td>\n",
       "      <td>57557</td>\n",
       "      <td>TRẦN THÁI AN</td>\n",
       "      <td>132, Vang Quới Đông, Bình Đại, Bến Tre</td>\n",
       "      <td>318455455.0</td>\n",
       "      <td>837326541</td>\n",
       "      <td>2006-04-03</td>\n",
       "      <td>Bến Tre</td>\n",
       "      <td>Hai bánh từ 50-175 cm3</td>\n",
       "      <td>HONDA</td>\n",
       "      <td>...</td>\n",
       "      <td>2018-04-10</td>\n",
       "      <td>NaN</td>\n",
       "      <td>2017-01-04</td>\n",
       "      <td>NaN</td>\n",
       "      <td>NaN</td>\n",
       "      <td>NaN</td>\n",
       "      <td>NaN</td>\n",
       "      <td>NaN</td>\n",
       "      <td>NaN</td>\n",
       "      <td>NaN</td>\n",
       "    </tr>\n",
       "    <tr>\n",
       "      <th>6</th>\n",
       "      <td>71C190875</td>\n",
       "      <td>24346</td>\n",
       "      <td>NGUYỄN ĐỨC ANH</td>\n",
       "      <td>66, Vang Quới Tây, Bình Đại, Bến Tre</td>\n",
       "      <td>321670981.0</td>\n",
       "      <td>918673775</td>\n",
       "      <td>2018-10-22</td>\n",
       "      <td>Bến Tre</td>\n",
       "      <td>Hai bánh từ 50-175 cm3</td>\n",
       "      <td>YAMAHA</td>\n",
       "      <td>...</td>\n",
       "      <td>2018-04-10</td>\n",
       "      <td>NaN</td>\n",
       "      <td>2017-01-04</td>\n",
       "      <td>NaN</td>\n",
       "      <td>NaN</td>\n",
       "      <td>NaN</td>\n",
       "      <td>NaN</td>\n",
       "      <td>NaN</td>\n",
       "      <td>NaN</td>\n",
       "      <td>NaN</td>\n",
       "    </tr>\n",
       "    <tr>\n",
       "      <th>7</th>\n",
       "      <td>71C126943</td>\n",
       "      <td>57573</td>\n",
       "      <td>PHẠM HOÀNG</td>\n",
       "      <td>298, Bình Thắng, Bình Đại, Bến Tre</td>\n",
       "      <td>309542109.0</td>\n",
       "      <td>939763639</td>\n",
       "      <td>2001-01-13</td>\n",
       "      <td>Bến Tre</td>\n",
       "      <td>Hai bánh từ 50-175 cm3</td>\n",
       "      <td>YAMAHA</td>\n",
       "      <td>...</td>\n",
       "      <td>2018-04-10</td>\n",
       "      <td>NaN</td>\n",
       "      <td>2017-01-04</td>\n",
       "      <td>NaN</td>\n",
       "      <td>NaN</td>\n",
       "      <td>NaN</td>\n",
       "      <td>NaN</td>\n",
       "      <td>NaN</td>\n",
       "      <td>NaN</td>\n",
       "      <td>NaN</td>\n",
       "    </tr>\n",
       "    <tr>\n",
       "      <th>8</th>\n",
       "      <td>71C390875</td>\n",
       "      <td>37653</td>\n",
       "      <td>LÊ HOÀNG ĐÔ</td>\n",
       "      <td>7/2, Giao Thạnh, Thạnh Phú, Bến Tre</td>\n",
       "      <td>364951257.0</td>\n",
       "      <td>913562476</td>\n",
       "      <td>2000-11-20</td>\n",
       "      <td>Bến Tre</td>\n",
       "      <td>Hai bánh từ 50-175 cm3</td>\n",
       "      <td>YAMAHA</td>\n",
       "      <td>...</td>\n",
       "      <td>2018-04-10</td>\n",
       "      <td>NaN</td>\n",
       "      <td>2017-01-04</td>\n",
       "      <td>NaN</td>\n",
       "      <td>NaN</td>\n",
       "      <td>NaN</td>\n",
       "      <td>NaN</td>\n",
       "      <td>NaN</td>\n",
       "      <td>NaN</td>\n",
       "      <td>NaN</td>\n",
       "    </tr>\n",
       "    <tr>\n",
       "      <th>9</th>\n",
       "      <td>71B4</td>\n",
       "      <td>472</td>\n",
       "      <td>Lê Huỳnh Yến Nhi</td>\n",
       "      <td>24/2, Thới Thạnh, Thạnh Phú, Bến Tre</td>\n",
       "      <td>NaN</td>\n",
       "      <td>383626591</td>\n",
       "      <td>2000-11-20</td>\n",
       "      <td>Bến Tre</td>\n",
       "      <td>NaN</td>\n",
       "      <td>NaN</td>\n",
       "      <td>...</td>\n",
       "      <td>NaT</td>\n",
       "      <td>NaN</td>\n",
       "      <td>NaT</td>\n",
       "      <td>NaN</td>\n",
       "      <td>NaN</td>\n",
       "      <td>NaN</td>\n",
       "      <td>NaN</td>\n",
       "      <td>NaN</td>\n",
       "      <td>NaN</td>\n",
       "      <td>NaN</td>\n",
       "    </tr>\n",
       "  </tbody>\n",
       "</table>\n",
       "<p>5 rows × 34 columns</p>\n",
       "</div>"
      ],
      "text/plain": [
       "  Biển số phần 1  Biển số phần 2            Chủ xe  \\\n",
       "5      71C167672           57557      TRẦN THÁI AN   \n",
       "6      71C190875           24346    NGUYỄN ĐỨC ANH   \n",
       "7      71C126943           57573        PHẠM HOÀNG   \n",
       "8      71C390875           37653       LÊ HOÀNG ĐÔ   \n",
       "9           71B4             472  Lê Huỳnh Yến Nhi   \n",
       "\n",
       "                                  Địa chỉ  Số CMND/CCCD  Số điện thoại  \\\n",
       "5  132, Vang Quới Đông, Bình Đại, Bến Tre   318455455.0      837326541   \n",
       "6    66, Vang Quới Tây, Bình Đại, Bến Tre   321670981.0      918673775   \n",
       "7      298, Bình Thắng, Bình Đại, Bến Tre   309542109.0      939763639   \n",
       "8     7/2, Giao Thạnh, Thạnh Phú, Bến Tre   364951257.0      913562476   \n",
       "9    24/2, Thới Thạnh, Thạnh Phú, Bến Tre           NaN      383626591   \n",
       "\n",
       "   Ngày cấp   Bến Tre                Loại xe  Nhãn hiệu  ... Ngày đăng ký mới  \\\n",
       "5 2006-04-03  Bến Tre  Hai bánh từ 50-175 cm3     HONDA  ...       2018-04-10   \n",
       "6 2018-10-22  Bến Tre  Hai bánh từ 50-175 cm3    YAMAHA  ...       2018-04-10   \n",
       "7 2001-01-13  Bến Tre  Hai bánh từ 50-175 cm3    YAMAHA  ...       2018-04-10   \n",
       "8 2000-11-20  Bến Tre  Hai bánh từ 50-175 cm3    YAMAHA  ...       2018-04-10   \n",
       "9 2000-11-20  Bến Tre                     NaN       NaN  ...              NaT   \n",
       "\n",
       "  Đăng ký xe có giá trị  Ngày đăng ký lần đầu  Biển số cũ Cải tạo  \\\n",
       "5                   NaN            2017-01-04         NaN     NaN   \n",
       "6                   NaN            2017-01-04         NaN     NaN   \n",
       "7                   NaN            2017-01-04         NaN     NaN   \n",
       "8                   NaN            2017-01-04         NaN     NaN   \n",
       "9                   NaN                   NaT         NaN     NaN   \n",
       "\n",
       "  Ngày cải tạo  Thu hồi  Ngày thu hồi  Sang tên di chuyển đi  \\\n",
       "5          NaN      NaN           NaN                    NaN   \n",
       "6          NaN      NaN           NaN                    NaN   \n",
       "7          NaN      NaN           NaN                    NaN   \n",
       "8          NaN      NaN           NaN                    NaN   \n",
       "9          NaN      NaN           NaN                    NaN   \n",
       "\n",
       "   Ngày sang tên di chuyển  \n",
       "5                      NaN  \n",
       "6                      NaN  \n",
       "7                      NaN  \n",
       "8                      NaN  \n",
       "9                      NaN  \n",
       "\n",
       "[5 rows x 34 columns]"
      ]
     },
     "execution_count": 9,
     "metadata": {},
     "output_type": "execute_result"
    }
   ],
   "source": [
    "# Print 5 head rows \n",
    "data.head()\n",
    "\n",
    "# Print 5 tail rows\n",
    "data.tail()\n"
   ]
  },
  {
   "cell_type": "code",
   "execution_count": 16,
   "metadata": {},
   "outputs": [
    {
     "name": "stdout",
     "output_type": "stream",
     "text": [
      "0    12345\n",
      "1    42342\n",
      "2    23423\n",
      "3    23423\n",
      "4    24342\n",
      "5    57557\n",
      "6    24346\n",
      "7    57573\n",
      "8    37653\n",
      "9      472\n",
      "Name: Biển số phần 2, dtype: int64\n"
     ]
    }
   ],
   "source": [
    "print(data[\"Biển số phần 2\"])\n",
    "# Duyet 1 cot\n",
    "\n"
   ]
  },
  {
   "cell_type": "code",
   "execution_count": 119,
   "metadata": {},
   "outputs": [],
   "source": [
    "# Duyet 1 hang\n",
    "# data.loc[44, :]      # Select row 44"
   ]
  },
  {
   "cell_type": "code",
   "execution_count": 120,
   "metadata": {},
   "outputs": [],
   "source": [
    "# Select the rows where 'id' value is 3.\n",
    "# data[data[\"License\"] == 'bien_so']"
   ]
  },
  {
   "cell_type": "code",
   "execution_count": 121,
   "metadata": {},
   "outputs": [
    {
     "data": {
      "text/html": [
       "<div>\n",
       "<style scoped>\n",
       "    .dataframe tbody tr th:only-of-type {\n",
       "        vertical-align: middle;\n",
       "    }\n",
       "\n",
       "    .dataframe tbody tr th {\n",
       "        vertical-align: top;\n",
       "    }\n",
       "\n",
       "    .dataframe thead th {\n",
       "        text-align: right;\n",
       "    }\n",
       "</style>\n",
       "<table border=\"1\" class=\"dataframe\">\n",
       "  <thead>\n",
       "    <tr style=\"text-align: right;\">\n",
       "      <th></th>\n",
       "      <th>STT</th>\n",
       "      <th>License</th>\n",
       "      <th>Time</th>\n",
       "      <th>Location</th>\n",
       "    </tr>\n",
       "  </thead>\n",
       "  <tbody>\n",
       "    <tr>\n",
       "      <th>0</th>\n",
       "      <td>1</td>\n",
       "      <td>71C2345</td>\n",
       "      <td>My name is truongdongdo</td>\n",
       "      <td>tran duy hung</td>\n",
       "    </tr>\n",
       "  </tbody>\n",
       "</table>\n",
       "</div>"
      ],
      "text/plain": [
       "  STT  License                     Time       Location\n",
       "0   1  71C2345  My name is truongdongdo  tran duy hung"
      ]
     },
     "execution_count": 121,
     "metadata": {},
     "output_type": "execute_result"
    }
   ],
   "source": [
    "# Add a new row at index position 2 with values provided in list\n",
    "data.set_index('STT')\n",
    "\n",
    "# Pass a series in append() to append a row in dataframe  \n",
    "mod_data = data.append(pd.Series([1,'71C2345', 'My name is truongdongdo','tran duy hung'],index=data.columns), ignore_index=True)\n",
    "mod_data.tail()"
   ]
  },
  {
   "cell_type": "code",
   "execution_count": 122,
   "metadata": {},
   "outputs": [
    {
     "name": "stdout",
     "output_type": "stream",
     "text": [
      "1\n"
     ]
    },
    {
     "data": {
      "text/html": [
       "<div>\n",
       "<style scoped>\n",
       "    .dataframe tbody tr th:only-of-type {\n",
       "        vertical-align: middle;\n",
       "    }\n",
       "\n",
       "    .dataframe tbody tr th {\n",
       "        vertical-align: top;\n",
       "    }\n",
       "\n",
       "    .dataframe thead th {\n",
       "        text-align: right;\n",
       "    }\n",
       "</style>\n",
       "<table border=\"1\" class=\"dataframe\">\n",
       "  <thead>\n",
       "    <tr style=\"text-align: right;\">\n",
       "      <th></th>\n",
       "      <th>STT</th>\n",
       "      <th>License</th>\n",
       "      <th>Time</th>\n",
       "      <th>Location</th>\n",
       "    </tr>\n",
       "  </thead>\n",
       "  <tbody>\n",
       "    <tr>\n",
       "      <th>0</th>\n",
       "      <td>1</td>\n",
       "      <td>71C2345</td>\n",
       "      <td>My name is truongdongdo</td>\n",
       "      <td>tran duy hung</td>\n",
       "    </tr>\n",
       "    <tr>\n",
       "      <th>1</th>\n",
       "      <td>2</td>\n",
       "      <td>4332</td>\n",
       "      <td>My name is truongdongdo</td>\n",
       "      <td>tran duy hung</td>\n",
       "    </tr>\n",
       "  </tbody>\n",
       "</table>\n",
       "</div>"
      ],
      "text/plain": [
       "  STT  License                     Time       Location\n",
       "0   1  71C2345  My name is truongdongdo  tran duy hung\n",
       "1   2     4332  My name is truongdongdo  tran duy hung"
      ]
     },
     "execution_count": 122,
     "metadata": {},
     "output_type": "execute_result"
    }
   ],
   "source": [
    "# Pass a series in append() to append a row in dataframe  \n",
    "last_STT = mod_data['STT'].values[-1]\n",
    "print(last_STT)\n",
    "mod_data = mod_data.append(pd.Series([last_STT+1,'4332', 'My name is truongdongdo','tran duy hung'],index=data.columns), ignore_index=True)\n",
    "mod_data.tail(10)"
   ]
  },
  {
   "cell_type": "code",
   "execution_count": 123,
   "metadata": {},
   "outputs": [
    {
     "name": "stdout",
     "output_type": "stream",
     "text": [
      "  STT License                     Time       Location\n",
      "1   2    4332  My name is truongdongdo  tran duy hung\n"
     ]
    }
   ],
   "source": [
    "print(mod_data[mod_data[\"License\"] == '4332'])"
   ]
  },
  {
   "cell_type": "code",
   "execution_count": 124,
   "metadata": {},
   "outputs": [
    {
     "name": "stdout",
     "output_type": "stream",
     "text": [
      "2\n"
     ]
    }
   ],
   "source": [
    "# Chon dong co bien so de dien don\n",
    "bien_so = str(4332)\n",
    "print(mod_data.loc[mod_data[\"License\"] == bien_so,'STT'].values[-1])"
   ]
  },
  {
   "cell_type": "code",
   "execution_count": 125,
   "metadata": {},
   "outputs": [
    {
     "name": "stdout",
     "output_type": "stream",
     "text": [
      "tran duy hung\n"
     ]
    }
   ],
   "source": [
    "# Chon dong roi chon so dt de nhan tin\n",
    "print(mod_data.loc[mod_data[\"License\"] == bien_so,'Location'].values[-1])"
   ]
  },
  {
   "cell_type": "markdown",
   "metadata": {},
   "source": [
    "#### - Output data to a CSV file"
   ]
  },
  {
   "cell_type": "code",
   "execution_count": 126,
   "metadata": {},
   "outputs": [],
   "source": [
    "# Typically, I don't want row numbers in my output file, hence index=False.\n",
    "# To avoid character issues, I typically use utf8 encoding for input/output.\n",
    "data.to_csv(\"output_test.csv\", index=False, encoding='utf8')"
   ]
  },
  {
   "cell_type": "code",
   "execution_count": 129,
   "metadata": {},
   "outputs": [],
   "source": [
    "# Output data to an Excel file.\n",
    "# For the excel output to work, you may need to install the \"xlsxwriter\" package.\n",
    "mod_data.to_excel(\"/home/truongdongdo/Desktop/sumary_xlsx_output.xlsx\", sheet_name=\"Sheet 1\", index=False)"
   ]
  },
  {
   "cell_type": "code",
   "execution_count": null,
   "metadata": {},
   "outputs": [],
   "source": []
  }
 ],
 "metadata": {
  "kernelspec": {
   "display_name": "Python 3",
   "language": "python",
   "name": "python3"
  },
  "language_info": {
   "codemirror_mode": {
    "name": "ipython",
    "version": 3
   },
   "file_extension": ".py",
   "mimetype": "text/x-python",
   "name": "python",
   "nbconvert_exporter": "python",
   "pygments_lexer": "ipython3",
   "version": "3.7.5"
  }
 },
 "nbformat": 4,
 "nbformat_minor": 2
}
